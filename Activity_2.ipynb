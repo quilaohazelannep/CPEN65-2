{
  "nbformat": 4,
  "nbformat_minor": 0,
  "metadata": {
    "colab": {
      "provenance": [],
      "authorship_tag": "ABX9TyO50rMVb7qqoTs8Ab3GxMsd",
      "include_colab_link": true
    },
    "kernelspec": {
      "name": "python3",
      "display_name": "Python 3"
    },
    "language_info": {
      "name": "python"
    }
  },
  "cells": [
    {
      "cell_type": "markdown",
      "metadata": {
        "id": "view-in-github",
        "colab_type": "text"
      },
      "source": [
        "<a href=\"https://colab.research.google.com/github/quilaohazelannep/CPEN65-2/blob/main/Activity_2.ipynb\" target=\"_parent\"><img src=\"https://colab.research.google.com/assets/colab-badge.svg\" alt=\"Open In Colab\"/></a>"
      ]
    },
    {
      "cell_type": "markdown",
      "source": [
        "Create a Python program that use Array. Insert each character of your full name and displays each character of your full name in reverse order."
      ],
      "metadata": {
        "id": "-jznRavWCTb0"
      }
    },
    {
      "cell_type": "code",
      "source": [
        "name = [\"Hazel\", \"Anne\", \"Pajarillo\", \"Quilao\"]\n",
        "reverse_name = []\n",
        "\n",
        "for x in name:\n",
        "  reverse_name.append(x[::-1])\n",
        "\n",
        "print(name)\n",
        "print(reverse_name)\n",
        "print(\"\".join(reverse_name))"
      ],
      "metadata": {
        "colab": {
          "base_uri": "https://localhost:8080/"
        },
        "id": "rWG-jmuJCcsq",
        "outputId": "420cbdc1-81d9-45f9-dc5d-eae6e8c277b5"
      },
      "execution_count": 2,
      "outputs": [
        {
          "output_type": "stream",
          "name": "stdout",
          "text": [
            "['Hazel', 'Anne', 'Pajarillo', 'Quilao']\n",
            "['lezaH', 'ennA', 'ollirajaP', 'oaliuQ']\n",
            "lezaHennAollirajaPoaliuQ\n"
          ]
        }
      ]
    }
  ]
}
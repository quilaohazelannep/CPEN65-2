{
  "nbformat": 4,
  "nbformat_minor": 0,
  "metadata": {
    "colab": {
      "provenance": [],
      "collapsed_sections": [],
      "authorship_tag": "ABX9TyNUvvcXi4VMvh6o7S56X714",
      "include_colab_link": true
    },
    "kernelspec": {
      "name": "python3",
      "display_name": "Python 3"
    },
    "language_info": {
      "name": "python"
    }
  },
  "cells": [
    {
      "cell_type": "markdown",
      "metadata": {
        "id": "view-in-github",
        "colab_type": "text"
      },
      "source": [
        "<a href=\"https://colab.research.google.com/github/quilaohazelannep/CPEN65-2/blob/main/Assignment_1.ipynb\" target=\"_parent\"><img src=\"https://colab.research.google.com/assets/colab-badge.svg\" alt=\"Open In Colab\"/></a>"
      ]
    },
    {
      "cell_type": "code",
      "source": [
        "select = input(\"Radius or Diameter: \").capitalize()\n",
        "\n",
        "class Radius:\n",
        "  def __init__(self,radius):\n",
        "    self.radius = radius\n",
        "\n",
        "  def area(self):\n",
        "    return 3.142 * (int(self.radius) ** 2)\n",
        "\n",
        "  def display(self):\n",
        "    print(f\"When the radius of the circle is {self.radius}, the area is\",  round(self.area(),2))\n",
        "\n",
        "class Diameter:\n",
        "  def __init__(self,diameter):\n",
        "    self.diameter = diameter\n",
        "\n",
        "  def area(self):\n",
        "    return 3.142 * (int(self.diameter) ** 2)/4\n",
        "\n",
        "  def display(self):\n",
        "    print(f\"When the diameter of the circle is {self.diameter}, the area is\", round(self.area(),2))\n",
        "\n",
        "\n",
        "if select == \"Radius\":\n",
        "  R = Radius(int(input(\"Radius: \")))\n",
        "  R.display()\n",
        "\n",
        "elif select == \"Diameter\":\n",
        "  D = Diameter(int(input(\"Diameter: \")))\n",
        "  D.display()\n",
        "\n",
        "else: \n",
        "  print(\"error\")"
      ],
      "metadata": {
        "colab": {
          "base_uri": "https://localhost:8080/"
        },
        "id": "gvuaiQ0KPB18",
        "outputId": "5aa875ee-2fce-47a2-d9b5-9839e1fce16a"
      },
      "execution_count": 1,
      "outputs": [
        {
          "output_type": "stream",
          "name": "stdout",
          "text": [
            "Radius or Diameter: Radius\n",
            "Radius: 25\n",
            "When the radius of the circle is 25, the area is 1963.75\n"
          ]
        }
      ]
    },
    {
      "cell_type": "code",
      "source": [
        "select = input(\"Radius or Diameter: \").capitalize()\n",
        "\n",
        "class Radius:\n",
        "  def __init__(self,radius):\n",
        "    self.radius = radius\n",
        "\n",
        "  def area(self):\n",
        "    return 3.142 * (int(self.radius) ** 2)\n",
        "\n",
        "  def display(self):\n",
        "    print(f\"When the radius of the circle is {self.radius}, the area is\",  round(self.area(),2))\n",
        "\n",
        "class Diameter:\n",
        "  def __init__(self,diameter):\n",
        "    self.diameter = diameter\n",
        "\n",
        "  def area(self):\n",
        "    return 3.142 * (int(self.diameter) ** 2)/4\n",
        "\n",
        "  def display(self):\n",
        "    print(f\"When the diameter of the circle is {self.diameter}, the area is\", round(self.area(),2))\n",
        "\n",
        "\n",
        "if select == \"Radius\":\n",
        "  R = Radius(int(input(\"Radius: \")))\n",
        "  R.display()\n",
        "\n",
        "elif select == \"Diameter\":\n",
        "  D = Diameter(int(input(\"Diameter: \")))\n",
        "  D.display()\n",
        "\n",
        "else: \n",
        "  print(\"error\")"
      ],
      "metadata": {
        "colab": {
          "base_uri": "https://localhost:8080/"
        },
        "id": "7WrWa_C9VSZY",
        "outputId": "c5e6d4cf-a4f5-4ca4-e295-1f0783ab7cd2"
      },
      "execution_count": 2,
      "outputs": [
        {
          "output_type": "stream",
          "name": "stdout",
          "text": [
            "Radius or Diameter: Diameter\n",
            "Diameter: 32\n",
            "When the diameter of the circle is 32, the area is 804.35\n"
          ]
        }
      ]
    }
  ]
}
{
  "nbformat": 4,
  "nbformat_minor": 0,
  "metadata": {
    "colab": {
      "provenance": [],
      "authorship_tag": "ABX9TyNec2xHaQOYzJs2AvG4c6Tz",
      "include_colab_link": true
    },
    "kernelspec": {
      "name": "python3",
      "display_name": "Python 3"
    },
    "language_info": {
      "name": "python"
    }
  },
  "cells": [
    {
      "cell_type": "markdown",
      "metadata": {
        "id": "view-in-github",
        "colab_type": "text"
      },
      "source": [
        "<a href=\"https://colab.research.google.com/github/quilaohazelannep/CPEN65-2/blob/main/QUILAO%2C_HAZEL_ANNE_Midterm_Exam.ipynb\" target=\"_parent\"><img src=\"https://colab.research.google.com/assets/colab-badge.svg\" alt=\"Open In Colab\"/></a>"
      ]
    },
    {
      "cell_type": "markdown",
      "source": [
        "1.) Write a Python program to create an array of 10 integers and display the array\n",
        "items. Access individual elements through indexes and compute for the sum."
      ],
      "metadata": {
        "id": "7xNlVmTDAc1E"
      }
    },
    {
      "cell_type": "code",
      "source": [
        "import array as arr\n",
        "numbers = arr.array('i', [1,3,5,7,9,11,13,15,17,19])\n",
        "\n",
        "for index, val in enumerate(numbers):\n",
        "  print(index,val)\n",
        "\n",
        "integers_sum = sum(numbers)\n",
        "print(\"The sum is:\", integers_sum)"
      ],
      "metadata": {
        "colab": {
          "base_uri": "https://localhost:8080/"
        },
        "id": "ufSl3ZTIAivE",
        "outputId": "30ec500b-789c-4fbf-9441-6685e383dd50"
      },
      "execution_count": 19,
      "outputs": [
        {
          "output_type": "stream",
          "name": "stdout",
          "text": [
            "0 1\n",
            "1 3\n",
            "2 5\n",
            "3 7\n",
            "4 9\n",
            "5 11\n",
            "6 13\n",
            "7 15\n",
            "8 17\n",
            "9 19\n",
            "The sum is: 100\n"
          ]
        }
      ]
    },
    {
      "cell_type": "markdown",
      "source": [
        "2.) Write a Python program to append a new item to the end of the array. Original\n",
        "array: numbers = [1, 2, 3, 4, 5, 6, 7, 8, 9, 10]"
      ],
      "metadata": {
        "id": "GbGhtYdoDdmi"
      }
    },
    {
      "cell_type": "code",
      "source": [
        "import array as arr\n",
        "x = arr.array('i', [1,2,3,4,5,6,7,8,9,10])\n",
        "print('Original array:' , x)\n",
        "x.append(11)\n",
        "print('New array:', x)"
      ],
      "metadata": {
        "colab": {
          "base_uri": "https://localhost:8080/"
        },
        "id": "NtIcQX5gDfal",
        "outputId": "e70fcb3e-bbf1-4c4e-cf69-be5d8b0b50ca"
      },
      "execution_count": 10,
      "outputs": [
        {
          "output_type": "stream",
          "name": "stdout",
          "text": [
            "Original array: array('i', [1, 2, 3, 4, 5, 6, 7, 8, 9, 10])\n",
            "New array: array('i', [1, 2, 3, 4, 5, 6, 7, 8, 9, 10, 11])\n"
          ]
        }
      ]
    },
    {
      "cell_type": "markdown",
      "source": [
        "3.) Write a Python program to insert a new item before the second element in an\n",
        "existing array. Original array: numbers = [1, 2, 3, 4, 5, 6, 7, 8, 9, 10]"
      ],
      "metadata": {
        "id": "figWOSQ5H0MH"
      }
    },
    {
      "cell_type": "code",
      "source": [
        "from array import *\n",
        "array_num = array('i', [1,2,3,4,5,6,7,8,9,10])\n",
        "print(\"Original array: \"+str(array_num))\n",
        "print(\"Insert new value 12 before 6:\")\n",
        "array_num.insert(5, 12)\n",
        "print(\"New array: \"+str(array_num))"
      ],
      "metadata": {
        "colab": {
          "base_uri": "https://localhost:8080/"
        },
        "id": "_qbsozk6H5k2",
        "outputId": "0319956b-f420-48f0-8460-845767402748"
      },
      "execution_count": 13,
      "outputs": [
        {
          "output_type": "stream",
          "name": "stdout",
          "text": [
            "Original array: array('i', [1, 2, 3, 4, 5, 6, 7, 8, 9, 10])\n",
            "Insert new value 12 before 6:\n",
            "New array: array('i', [1, 2, 3, 4, 5, 12, 6, 7, 8, 9, 10])\n"
          ]
        }
      ]
    },
    {
      "cell_type": "markdown",
      "source": [
        "4.) Write a Python program to reverse the order of the items in the array. Original\n",
        "array: numbers = [5, 4, 3, 2, 1]"
      ],
      "metadata": {
        "id": "09SqQxwZJS2o"
      }
    },
    {
      "cell_type": "code",
      "source": [
        "from array import *\n",
        "array_num = array('i', [5,4,3,2,1])\n",
        "print(array_num)\n",
        "array_num.reverse()\n",
        "print(\"Reverse the order of the items:\")\n",
        "print(str(array_num))"
      ],
      "metadata": {
        "colab": {
          "base_uri": "https://localhost:8080/"
        },
        "id": "IQgKO_uMJaox",
        "outputId": "0053115d-7bbe-48f5-e07d-ae5c07a9eec6"
      },
      "execution_count": 14,
      "outputs": [
        {
          "output_type": "stream",
          "name": "stdout",
          "text": [
            "array('i', [5, 4, 3, 2, 1])\n",
            "Reverse the order of the items:\n",
            "array('i', [1, 2, 3, 4, 5])\n"
          ]
        }
      ]
    },
    {
      "cell_type": "markdown",
      "source": [
        "5.) Write a Python program to get the length of the array. Original array: numbers =\n",
        "[5, 4, 3, 2, 1]"
      ],
      "metadata": {
        "id": "fKWQ-Z3DKXQM"
      }
    },
    {
      "cell_type": "code",
      "source": [
        "import array as arr\n",
        "n = arr.array('i', [5,4,3,2,1])\n",
        "print(n)\n",
        "m = len(n)\n",
        "print(m)"
      ],
      "metadata": {
        "colab": {
          "base_uri": "https://localhost:8080/"
        },
        "id": "JVpzfWsFKdNY",
        "outputId": "249c99ec-d9ac-43de-cf0e-19c0e47050fb"
      },
      "execution_count": 15,
      "outputs": [
        {
          "output_type": "stream",
          "name": "stdout",
          "text": [
            "array('i', [5, 4, 3, 2, 1])\n",
            "5\n"
          ]
        }
      ]
    }
  ]
}